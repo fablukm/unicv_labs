{
 "cells": [
  {
   "cell_type": "markdown",
   "metadata": {
    "slideshow": {
     "slide_type": "slide"
    }
   },
   "source": [
    "# Linear Regression with PyTorch"
   ]
  },
  {
   "cell_type": "markdown",
   "metadata": {
    "slideshow": {
     "slide_type": "subslide"
    }
   },
   "source": [
    "## 1 Installing PyTorch\n",
    "\n",
    "PyTorch is a Python frontend for Deep Learning applications developed by a Facebook research group. It can be used for a wide range of applications, and provides out-of-the box CUDA support, if it is installed. \n",
    "\n",
    "You can install PyTorch with conda, pip, or compile it from source. The official website shows which command can be used to install PyTorch on your system:\n",
    "https://pytorch.org/\n",
    "\n",
    "If you have a CUDA compatible graphics card on your workstation, you can install CUDA first (in case you have not yet) and select the corresponding version on the PyTorch website. CUDA can be downloaded here: https://developer.nvidia.com/cuda-zone.\n",
    "\n",
    "We now import the PyTorch library to Python:"
   ]
  },
  {
   "cell_type": "code",
   "execution_count": 1,
   "metadata": {
    "slideshow": {
     "slide_type": "fragment"
    }
   },
   "outputs": [],
   "source": [
    "import torch\n",
    "from torch.autograd import Variable\n",
    "from torch.nn import functional as F"
   ]
  },
  {
   "cell_type": "markdown",
   "metadata": {
    "slideshow": {
     "slide_type": "fragment"
    }
   },
   "source": [
    "Next, we need to import libraries for plotting and mathematical computations."
   ]
  },
  {
   "cell_type": "code",
   "execution_count": 2,
   "metadata": {},
   "outputs": [],
   "source": [
    "%matplotlib inline\n",
    "import matplotlib.pyplot as plt"
   ]
  },
  {
   "cell_type": "markdown",
   "metadata": {},
   "source": [
    "## 2 Dataset"
   ]
  },
  {
   "cell_type": "markdown",
   "metadata": {},
   "source": [
    "In Machine Learning, many data sets have been established as standard cases such as the benchmarks MNIST and CIFAR (more on that later). For our simple Linear Regression model, we are going to generate some artificial data.\n",
    "\n",
    "For simplicity, we assume that $m=n=1$, i.e. we are trying to predict scalars from scalars."
   ]
  },
  {
   "cell_type": "code",
   "execution_count": 3,
   "metadata": {},
   "outputs": [],
   "source": [
    "x_data = Variable(torch.Tensor([[10.0], [9.0], [3.0], [2.0]]))\n",
    "y_data = Variable(torch.Tensor([[90.0], [80.0], [50.0], [30.0]]))"
   ]
  },
  {
   "cell_type": "code",
   "execution_count": 4,
   "metadata": {},
   "outputs": [
    {
     "data": {
      "text/plain": [
       "Text(0, 0.5, 'y')"
      ]
     },
     "execution_count": 4,
     "metadata": {},
     "output_type": "execute_result"
    },
    {
     "data": {
      "image/png": "[encoded data removed]",
      "text/plain": [
       "<Figure size 432x288 with 1 Axes>"
      ]
     },
     "metadata": {
      "needs_background": "light"
     },
     "output_type": "display_data"
    }
   ],
   "source": [
    "# Visualize\n",
    "plt.plot(x_data.numpy(), y_data.numpy(), 'o')\n",
    "plt.xlabel('x')\n",
    "plt.ylabel('y')"
   ]
  },
  {
   "cell_type": "markdown",
   "metadata": {},
   "source": [
    "## 3 Model Definition"
   ]
  },
  {
   "cell_type": "markdown",
   "metadata": {},
   "source": [
    "We need to define what model we want to use for the prediction. In our simplified case, both input and output are elements of $\\mathbb{R}$. \n",
    "In PyTorch, this is going to be reflected by \n",
    "\n",
    "`torch.nn.Linear(1, 1)`: We have one linear layer that takes 1-dimensional vectors and returns 1-dimensional vectors.\n",
    "\n",
    "We are going to define our model as a `class LinearRegressionModule`. To ensure compatibility with PyTorch, our model is a subclass of the PyTorch native `Module` class.\n",
    "\n",
    "The model is defined by its forward pass (its prediction step), which needs to be defined as a method of the class."
   ]
  },
  {
   "cell_type": "code",
   "execution_count": 5,
   "metadata": {},
   "outputs": [],
   "source": [
    "class LinearRegressionModel(torch.nn.Module):\n",
    "    # define model as subclass of the PyTorch-native Module class\n",
    "    def __init__(self):\n",
    "        super(LinearRegressionModel, self).__init__()\n",
    "        self.linear = torch.nn.Linear(1, 1)\n",
    "    \n",
    "    def forward(self, x):\n",
    "        prediction = self.linear(x)\n",
    "        return prediction"
   ]
  },
  {
   "cell_type": "code",
   "execution_count": 6,
   "metadata": {},
   "outputs": [],
   "source": [
    "# initialise the model\n",
    "lr_model = LinearRegressionModel()"
   ]
  },
  {
   "cell_type": "markdown",
   "metadata": {},
   "source": [
    "## 4 Loss Function"
   ]
  },
  {
   "cell_type": "markdown",
   "metadata": {},
   "source": [
    "As indicated in the lecture, the criterion which we minimise is going to be the Mean-Squared Error (sometimes called MSE, in the lecture $\\boldsymbol{\\varepsilon}$). \n",
    "\n",
    "Luckily, this is already implemented in PyTorch. We just have to select it as a loss function of our model. The argument `reduction='mean'` herein indicates that the sum of squared errors is going to be scaled by the sample size."
   ]
  },
  {
   "cell_type": "code",
   "execution_count": 7,
   "metadata": {},
   "outputs": [],
   "source": [
    "criterion = torch.nn.MSELoss(reduction='mean')"
   ]
  },
  {
   "cell_type": "markdown",
   "metadata": {},
   "source": [
    "## 5 Optimizer\n",
    "\n",
    "Next, we can choose between the most common minimisation algorithms which are already implemented in the [PyTorch Optim module](https://pytorch.org/docs/stable/optim.html). Here, we choose a variant of Gradient Descent, called the [Stochastic Gradient Descent](https://en.wikipedia.org/wiki/Stochastic_gradient_descent) with **Learning Rate $0.01$**."
   ]
  },
  {
   "cell_type": "code",
   "execution_count": 8,
   "metadata": {},
   "outputs": [],
   "source": [
    "learning_rate = .01\n",
    "optimizer = torch.optim.SGD(lr_model.parameters(), lr=learning_rate)"
   ]
  },
  {
   "cell_type": "markdown",
   "metadata": {},
   "source": [
    "## 6 Training the model"
   ]
  },
  {
   "cell_type": "markdown",
   "metadata": {},
   "source": [
    "This is the crucial **learning step**. We run our model through 20 iterations (here, this is called _epochs_).\n",
    "\n",
    "**Backward pass** is where the update of the learned parameters by the minimization algorithm is done. \n",
    "\n",
    "The following code block contains a loop over all epochs, runs one forward pass of the data, computes the loss, and updates to get the next step. \n",
    "\n",
    "As you see, PyTorch allows a user to implement a Machine Learning algorithm without specific knowledge of the optimization algorithm. Therefore, as Mathematicians, it is especially important to be aware of what the iteration is really doing!"
   ]
  },
  {
   "cell_type": "code",
   "execution_count": 9,
   "metadata": {},
   "outputs": [
    {
     "name": "stdout",
     "output_type": "stream",
     "text": [
      "Epoch 50 of 600: Loss is 97.83135223388672\n",
      "Epoch 100 of 600: Loss is 68.4818344116211\n",
      "Epoch 150 of 600: Loss is 50.839012145996094\n",
      "Epoch 200 of 600: Loss is 40.23340606689453\n",
      "Epoch 250 of 600: Loss is 33.85809326171875\n",
      "Epoch 300 of 600: Loss is 30.025686264038086\n",
      "Epoch 350 of 600: Loss is 27.721935272216797\n",
      "Epoch 400 of 600: Loss is 26.337081909179688\n",
      "Epoch 450 of 600: Loss is 25.504606246948242\n",
      "Epoch 500 of 600: Loss is 25.004175186157227\n",
      "Epoch 550 of 600: Loss is 24.70336151123047\n",
      "Epoch 600 of 600: Loss is 24.522531509399414\n"
     ]
    },
    {
     "data": {
      "text/plain": [
       "<matplotlib.legend.Legend at 0x7f2490ca39b0>"
      ]
     },
     "execution_count": 9,
     "metadata": {},
     "output_type": "execute_result"
    },
    {
     "data": {
      "image/png": "[encoded data removed]",
      "text/plain": [
       "<Figure size 432x288 with 1 Axes>"
      ]
     },
     "metadata": {
      "needs_background": "light"
     },
     "output_type": "display_data"
    }
   ],
   "source": [
    "n_epochs = 600\n",
    "\n",
    "losses_for_plot = []\n",
    "epochs_for_plot = []\n",
    "\n",
    "for epoch in range(n_epochs):\n",
    "    lr_model.train()\n",
    "    optimizer.zero_grad()\n",
    "\n",
    "    # Predict from x using the current weights\n",
    "    y_pred = lr_model(x_data)\n",
    "\n",
    "    # Compute the Mean Square Error (or whatever loss is chosen)\n",
    "    loss = criterion(y_pred, y_data)\n",
    "\n",
    "    # Update the weights\n",
    "    loss.backward()\n",
    "    optimizer.step()\n",
    "    \n",
    "    # output something\n",
    "    if ((epoch+1)%50)==0:\n",
    "        \n",
    "        losses_for_plot.append(loss)\n",
    "        epochs_for_plot.append(epoch)\n",
    "        print(\"Epoch {} of {}: Loss is {}\".format(epoch+1, n_epochs, loss))\n",
    "        \n",
    "# plot loss per epoch\n",
    "plt.plot(epochs_for_plot, losses_for_plot, 'o-')\n",
    "plt.xlabel('Epoch')\n",
    "plt.ylabel('Mean Squared Error')\n",
    "plt.legend([\"Loss function\"])"
   ]
  },
  {
   "cell_type": "markdown",
   "metadata": {},
   "source": [
    "The minimization procedure looks trustworthy. Let us now see how the model can be used to predict new values."
   ]
  },
  {
   "cell_type": "markdown",
   "metadata": {},
   "source": [
    "## 7 Predicting\n",
    "\n",
    "First of all, let us define a new value for $x$ and predict its value. A plot will give us an intuition of the accuracy of the prediction, _but never more than an intuition_."
   ]
  },
  {
   "cell_type": "code",
   "execution_count": 10,
   "metadata": {},
   "outputs": [
    {
     "data": {
      "text/plain": [
       "Text(0, 0.5, 'y')"
      ]
     },
     "execution_count": 10,
     "metadata": {},
     "output_type": "execute_result"
    },
    {
     "data": {
      "image/png": "[encoded data removed]",
      "text/plain": [
       "<Figure size 432x288 with 1 Axes>"
      ]
     },
     "metadata": {
      "needs_background": "light"
     },
     "output_type": "display_data"
    }
   ],
   "source": [
    "x = Variable(torch.Tensor([[1.0]]))\n",
    "y_pred = lr_model(x).data[0][0]\n",
    "\n",
    "#plot the given values and the new one\n",
    "plt.plot(x_data.numpy(), y_data.numpy(), 'ko')\n",
    "plt.plot(x.numpy(), y_pred.numpy(), 'ro')\n",
    "plt.xlabel('x')\n",
    "plt.ylabel('y')"
   ]
  },
  {
   "cell_type": "markdown",
   "metadata": {},
   "source": [
    "Now, let us predict an entire line and visualise how it fits the data set. Keep in mind that a line is defined by two values."
   ]
  },
  {
   "cell_type": "code",
   "execution_count": 11,
   "metadata": {},
   "outputs": [
    {
     "data": {
      "text/plain": [
       "<matplotlib.legend.Legend at 0x7f2490385898>"
      ]
     },
     "execution_count": 11,
     "metadata": {},
     "output_type": "execute_result"
    },
    {
     "data": {
      "image/png": "[encoded data removed]",
      "text/plain": [
       "<Figure size 432x288 with 1 Axes>"
      ]
     },
     "metadata": {
      "needs_background": "light"
     },
     "output_type": "display_data"
    }
   ],
   "source": [
    "x2 = Variable(torch.Tensor([[11.0]]))\n",
    "y_pred2 = lr_model(x2).data[0][0]\n",
    "\n",
    "plt.plot(x_data.numpy(), y_data.numpy(), 'ko')\n",
    "plt.plot([x.numpy()[0][0], x2.numpy()[0][0]], [y_pred.numpy(), y_pred2.numpy()], 'r--')\n",
    "plt.xlabel('x')\n",
    "plt.ylabel('y')\n",
    "plt.legend(['Data',http://localhost:8888/notebooks/linear_regression.ipynb# 'Fit'])"
   ]
  },
  {
   "cell_type": "markdown",
   "metadata": {},
   "source": [
    "## 8 Printing the parameters"
   ]
  },
  {
   "cell_type": "markdown",
   "metadata": {},
   "source": [
    "To put this simple one-dimensional example into a Machine Learning language: Here, we learned parameters $(W, b)$, both elements of $\\R$, such that $y=Wx+b$.\n",
    "In such a language, $W$ is called the **weight**, and $b$ is called the **bias** of the model."
   ]
  },
  {
   "cell_type": "code",
   "execution_count": 27,
   "metadata": {},
   "outputs": [
    {
     "name": "stdout",
     "output_type": "stream",
     "text": [
      "Weight W = 6.727228164672852\n",
      "Bias b=21.876956939697266\n"
     ]
    }
   ],
   "source": [
    "W, b = lr_model.linear.weight, lr_model.linear.bias\n",
    "print(\"Weight W = {}\\nBias b = {}\".format(W[0][0], b[0]))"
   ]
  }
 ],
 "metadata": {
  "kernelspec": {
   "display_name": "Python 3",
   "language": "python",
   "name": "python3"
  },
  "language_info": {
   "codemirror_mode": {
    "name": "ipython",
    "version": 3
   },
   "file_extension": ".py",
   "mimetype": "text/x-python",
   "name": "python",
   "nbconvert_exporter": "python",
   "pygments_lexer": "ipython3",
   "version": "3.7.3"
  }
 },
 "nbformat": 4,
 "nbformat_minor": 2
}
